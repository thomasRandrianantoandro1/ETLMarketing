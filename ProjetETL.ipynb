{
 "cells": [
  {
   "cell_type": "markdown",
   "source": [
    "### Projet ETL\n",
    "\n",
    "Le projet est composé de deux fichiers 'usertable.csv' et 'VisitorLogs.csv'. L'objectif de cette base de données d'en faire une base de donnée pour qu'une équipe de marketing puisse l'utiliser.\n",
    "\n",
    "\n",
    "## Implémentation bibliothèque\n"
   ],
   "metadata": {
    "id": "AmvCeiTgEc8v"
   }
  },
  {
   "cell_type": "code",
   "metadata": {
    "id": "YASYsOhDDVKF",
    "ExecuteTime": {
     "end_time": "2025-01-12T15:22:27.003655Z",
     "start_time": "2025-01-12T15:22:24.343680Z"
    }
   },
   "source": [
    "import pandas as pd\n",
    "import numpy as np\n",
    "from pandas.core.interchange.dataframe_protocol import DataFrame"
   ],
   "outputs": [],
   "execution_count": 2
  },
  {
   "cell_type": "markdown",
   "source": [
    "## Extract\n",
    "\n",
    "La table de 'userTable.csv' "
   ],
   "metadata": {
    "id": "thZjOfv7E95u"
   }
  },
  {
   "cell_type": "code",
   "source": [
    "df_user=pd.read_csv('userTable.csv',dtype=str)\n",
    "print(df_user.head().to_string())"
   ],
   "metadata": {
    "id": "TG9bbIgxE8kT",
    "ExecuteTime": {
     "end_time": "2025-01-08T21:06:25.181984Z",
     "start_time": "2025-01-08T21:06:13.156296Z"
    }
   },
   "outputs": [],
   "execution_count": 89
  },
  {
   "metadata": {},
   "cell_type": "markdown",
   "source": "La table de 'VIsitorLogsData.csv'"
  },
  {
   "metadata": {
    "ExecuteTime": {
     "end_time": "2025-01-12T15:22:21.026991Z",
     "start_time": "2025-01-12T15:22:20.803645Z"
    }
   },
   "cell_type": "code",
   "source": [
    "df_VisitorLogs=pd.read_csv('VisitorLogsData.csv')\n",
    "print(df_VisitorLogs.head().to_string())"
   ],
   "outputs": [
    {
     "ename": "NameError",
     "evalue": "name 'pd' is not defined",
     "output_type": "error",
     "traceback": [
      "\u001B[1;31m---------------------------------------------------------------------------\u001B[0m",
      "\u001B[1;31mNameError\u001B[0m                                 Traceback (most recent call last)",
      "Cell \u001B[1;32mIn[1], line 1\u001B[0m\n\u001B[1;32m----> 1\u001B[0m df_VisitorLogs\u001B[38;5;241m=\u001B[39m\u001B[43mpd\u001B[49m\u001B[38;5;241m.\u001B[39mread_csv(\u001B[38;5;124m'\u001B[39m\u001B[38;5;124mVisitorLogsData.csv\u001B[39m\u001B[38;5;124m'\u001B[39m)\n\u001B[0;32m      2\u001B[0m \u001B[38;5;28mprint\u001B[39m(df_VisitorLogs\u001B[38;5;241m.\u001B[39mhead()\u001B[38;5;241m.\u001B[39mto_string())\n",
      "\u001B[1;31mNameError\u001B[0m: name 'pd' is not defined"
     ]
    }
   ],
   "execution_count": 1
  },
  {
   "cell_type": "markdown",
   "source": [
    "## Cleaning des données\n",
    "Il y'a plusieurs à transformer dans nos données.  \n",
    "Dans 'VisitorLogsData.csv'. On travaille uniquement avec les données des membres inscrits, on supprime  donc toutes les lignes qui ne possède pas de UserID.  \n",
    "De plus, on formate les dates aussi, on garde uniquement les lignes avec des dates et on garde le format 'YYYY-MM-DD ... '    "
   ],
   "metadata": {
    "id": "2EWolc7QFINi"
   }
  },
  {
   "cell_type": "code",
   "source": [
    "df_VisitorLogs=df_VisitorLogs.dropna(subset=['VisitDateTime'])\n",
    "df_VisitorLogs=df_VisitorLogs.dropna(subset=['UserID'])\n",
    "\n",
    "df_VisitorLogs['VisitDateTime']=pd.to_datetime(df_VisitorLogs['VisitDateTime'],errors='coerce',unit='ns')\n",
    "df_VisitorLogs = df_VisitorLogs[df_VisitorLogs['VisitDateTime'].notna()]\n",
    "print(df_VisitorLogs.head().to_string())"
   ],
   "metadata": {
    "id": "rmiC0pxFFK9W",
    "ExecuteTime": {
     "end_time": "2025-01-12T16:42:02.789474Z",
     "start_time": "2025-01-12T16:42:02.722891Z"
    }
   },
   "outputs": [
    {
     "ename": "NameError",
     "evalue": "name 'df_VisitorLogs' is not defined",
     "output_type": "error",
     "traceback": [
      "\u001B[1;31m---------------------------------------------------------------------------\u001B[0m",
      "\u001B[1;31mNameError\u001B[0m                                 Traceback (most recent call last)",
      "Cell \u001B[1;32mIn[3], line 1\u001B[0m\n\u001B[1;32m----> 1\u001B[0m df_VisitorLogs\u001B[38;5;241m=\u001B[39m\u001B[43mdf_VisitorLogs\u001B[49m\u001B[38;5;241m.\u001B[39mdropna(subset\u001B[38;5;241m=\u001B[39m[\u001B[38;5;124m'\u001B[39m\u001B[38;5;124mVisitDateTime\u001B[39m\u001B[38;5;124m'\u001B[39m])\n\u001B[0;32m      2\u001B[0m df_VisitorLogs\u001B[38;5;241m=\u001B[39mdf_VisitorLogs\u001B[38;5;241m.\u001B[39mdropna(subset\u001B[38;5;241m=\u001B[39m[\u001B[38;5;124m'\u001B[39m\u001B[38;5;124mUserID\u001B[39m\u001B[38;5;124m'\u001B[39m])\n\u001B[0;32m      4\u001B[0m df_VisitorLogs[\u001B[38;5;124m'\u001B[39m\u001B[38;5;124mVisitDateTime\u001B[39m\u001B[38;5;124m'\u001B[39m]\u001B[38;5;241m=\u001B[39mpd\u001B[38;5;241m.\u001B[39mto_datetime(df_VisitorLogs[\u001B[38;5;124m'\u001B[39m\u001B[38;5;124mVisitDateTime\u001B[39m\u001B[38;5;124m'\u001B[39m],errors\u001B[38;5;241m=\u001B[39m\u001B[38;5;124m'\u001B[39m\u001B[38;5;124mcoerce\u001B[39m\u001B[38;5;124m'\u001B[39m,unit\u001B[38;5;241m=\u001B[39m\u001B[38;5;124m'\u001B[39m\u001B[38;5;124mns\u001B[39m\u001B[38;5;124m'\u001B[39m)\n",
      "\u001B[1;31mNameError\u001B[0m: name 'df_VisitorLogs' is not defined"
     ]
    }
   ],
   "execution_count": 3
  },
  {
   "cell_type": "markdown",
   "source": [
    "## Nouveau DataFrame  \n",
    "On crée un noueau DataFrame final avec les différents données que l'on veut voir."
   ],
   "metadata": {
    "id": "I0Sn9KqrG60i"
   }
  },
  {
   "cell_type": "code",
   "source": [
    "colonnes = ['UserID','No_of_days_Visited_7_Days','No_Of_Products_Viewed_15_Days', 'User_Vintage','Most_Viewed_product_15_Days',\n",
    "            'Most_Active_OS','Recently_Viewed_Product','Pageloads_last_7_days','Clicks_last_7_days']\n",
    "\n",
    "df_Marketing_Model=pd.DataFrame(columns=colonnes)\n",
    "df_Marketing_Model['UserID']= df_VisitorLogs['UserID'].unique()\n",
    "print(df_Marketing_Model.head().to_string())"
   ],
   "metadata": {
    "colab": {
     "base_uri": "https://localhost:8080/"
    },
    "id": "HbfFmkN_HKmI",
    "outputId": "4f297754-7503-44df-eaea-1c602a755ce1",
    "ExecuteTime": {
     "end_time": "2025-01-08T21:06:29.377272Z",
     "start_time": "2025-01-08T21:06:29.303736Z"
    }
   },
   "outputs": [
    {
     "name": "stdout",
     "output_type": "stream",
     "text": [
      "    UserID No_of_days_Visited_7_Days No_Of_Products_Viewed_15_Days User_Vintage Most_Viewed_product_15_Days Most_Active_OS Recently_Viewed_Product Pageloads_last_7_days Clicks_last_7_days\n",
      "0  U132443                       NaN                           NaN          NaN                         NaN            NaN                     NaN                   NaN                NaN\n",
      "1  U134616                       NaN                           NaN          NaN                         NaN            NaN                     NaN                   NaN                NaN\n",
      "2  U130784                       NaN                           NaN          NaN                         NaN            NaN                     NaN                   NaN                NaN\n",
      "3  U120983                       NaN                           NaN          NaN                         NaN            NaN                     NaN                   NaN                NaN\n",
      "4  U120287                       NaN                           NaN          NaN                         NaN            NaN                     NaN                   NaN                NaN\n"
     ]
    }
   ],
   "execution_count": 91
  },
  {
   "metadata": {},
   "cell_type": "markdown",
   "source": [
    "## Travail sur les 7 derniers jours \n",
    "On va travailler avec des données qui sont sur les 7  ou 15 derniers jours. "
   ]
  },
  {
   "metadata": {
    "ExecuteTime": {
     "end_time": "2025-01-08T21:06:29.468420Z",
     "start_time": "2025-01-08T21:06:29.419093Z"
    }
   },
   "cell_type": "code",
   "source": [
    "date_fin = pd.Timestamp('2018-05-27')\n",
    "date_debut = date_fin - pd.Timedelta(days=7)\n",
    "df_7jours= df_VisitorLogs[(df_VisitorLogs['VisitDateTime'] >= date_debut) & (df_VisitorLogs['VisitDateTime'] <= date_fin)]\n",
    "print(df_7jours.head().to_string())"
   ],
   "outputs": [
    {
     "name": "stdout",
     "output_type": "stream",
     "text": [
      "        webClientID           VisitDateTime ProductID   UserID  Activity        Browser        OS       City Country\n",
      "68    WI10000018039 2018-05-23 09:44:44.023  Pr101042  U113937     CLICK         Safari  mac os x    Dailekh   Nepal\n",
      "106  WI100000319667 2018-05-25 06:01:57.465  pr100044  U111160     click  Chrome Mobile   Android  Bengaluru   India\n",
      "140    WI1000001500 2018-05-21 05:28:46.221  Pr100339  U119431     click         Chrome   windows    Kolkata   India\n",
      "198  WI100000506560 2018-05-25 17:03:00.226  Pr100503  U109651  PAGELOAD         Chrome   windows  Bengaluru   India\n",
      "213  WI100000727623 2018-05-21 03:55:35.958  pr100544  U113103  pageload         Chrome   Windows    Chennai   India\n"
     ]
    }
   ],
   "execution_count": 92
  },
  {
   "metadata": {
    "ExecuteTime": {
     "end_time": "2025-01-08T21:06:29.607804Z",
     "start_time": "2025-01-08T21:06:29.518785Z"
    }
   },
   "cell_type": "code",
   "source": [
    "date_fin = pd.Timestamp('2018-05-27')\n",
    "date_debut = date_fin - pd.Timedelta(days=15)\n",
    "df_15jours= df_VisitorLogs[(df_VisitorLogs['VisitDateTime'] >= date_debut) & (df_VisitorLogs['VisitDateTime'] <= date_fin)]\n",
    "print(df_15jours.head().to_string())"
   ],
   "outputs": [
    {
     "name": "stdout",
     "output_type": "stream",
     "text": [
      "       webClientID           VisitDateTime ProductID   UserID Activity Browser        OS     City Country\n",
      "50  WI100000110130 2018-05-19 00:02:31.347  pr100340  U120983    click  Chrome   Windows   Mumbai   India\n",
      "54   WI10000014616 2018-05-19 04:51:45.337  Pr100166  U120287    click  Chrome   Windows      NaN     NaN\n",
      "68   WI10000018039 2018-05-23 09:44:44.023  Pr101042  U113937    CLICK  Safari  mac os x  Dailekh   Nepal\n",
      "69    WI1000001200 2018-05-13 13:17:03.751  Pr101042  U115735    click  Chrome   Windows  Khammam   India\n",
      "74   WI10000022937 2018-05-16 12:39:44.279  Pr101964  U103943    click  Chrome   Windows      NaN     NaN\n"
     ]
    }
   ],
   "execution_count": 93
  },
  {
   "cell_type": "markdown",
   "source": [
    "# Nombres de visites des utilisateurs sur 7 Jours\n",
    "On veut regarder combien de visiteurs a-t-on eu les 7 derniers jours pour possiblement voir l'évolution des visites du site."
   ],
   "metadata": {
    "id": "KftJy-MHHM4B"
   }
  },
  {
   "cell_type": "code",
   "source": [
    "# Compter les visites par utilisateur\n",
    "visit_counts = df_7jours['UserID'].value_counts().reset_index()\n",
    "visit_counts.columns = ['UserID', 'No_of_days_Visited_7_Days']\n",
    "# Effectuer la jointure avec les nouvelles valeurs\n",
    "updated_values = df_Marketing_Model[['UserID']].merge(visit_counts, on='UserID', how='left')\n",
    "df_Marketing_Model.update(updated_values)\n",
    "# df_Marketing_Model['No_of_days_Visited_7_Days']=df_Marketing_Model['No_of_days_Visited_7_Days'].fillna(0)\n",
    "pd.set_option('future.no_silent_downcasting', True)\n",
    "print(df_Marketing_Model.head().to_string())"
   ],
   "metadata": {
    "id": "yuFDs7iRHSZR",
    "ExecuteTime": {
     "end_time": "2025-01-12T16:49:53.686443Z",
     "start_time": "2025-01-12T16:49:53.650661Z"
    }
   },
   "outputs": [
    {
     "ename": "NameError",
     "evalue": "name 'df_7jours' is not defined",
     "output_type": "error",
     "traceback": [
      "\u001B[1;31m---------------------------------------------------------------------------\u001B[0m",
      "\u001B[1;31mNameError\u001B[0m                                 Traceback (most recent call last)",
      "Cell \u001B[1;32mIn[4], line 2\u001B[0m\n\u001B[0;32m      1\u001B[0m \u001B[38;5;66;03m# Compter les visites par utilisateur\u001B[39;00m\n\u001B[1;32m----> 2\u001B[0m visit_counts \u001B[38;5;241m=\u001B[39m \u001B[43mdf_7jours\u001B[49m[\u001B[38;5;124m'\u001B[39m\u001B[38;5;124mUserID\u001B[39m\u001B[38;5;124m'\u001B[39m]\u001B[38;5;241m.\u001B[39mvalue_counts()\u001B[38;5;241m.\u001B[39mreset_index()\n\u001B[0;32m      3\u001B[0m visit_counts\u001B[38;5;241m.\u001B[39mcolumns \u001B[38;5;241m=\u001B[39m [\u001B[38;5;124m'\u001B[39m\u001B[38;5;124mUserID\u001B[39m\u001B[38;5;124m'\u001B[39m, \u001B[38;5;124m'\u001B[39m\u001B[38;5;124mNo_of_days_Visited_7_Days\u001B[39m\u001B[38;5;124m'\u001B[39m]\n\u001B[0;32m      4\u001B[0m \u001B[38;5;66;03m# Effectuer la jointure avec les nouvelles valeurs\u001B[39;00m\n",
      "\u001B[1;31mNameError\u001B[0m: name 'df_7jours' is not defined"
     ]
    }
   ],
   "execution_count": 4
  },
  {
   "cell_type": "markdown",
   "source": [
    " # Nombres de produits vues par les utilisateurs sur les derniers 15 Jours\n",
    " "
   ],
   "metadata": {
    "id": "lgRYUPbZHXD-"
   }
  },
  {
   "cell_type": "code",
   "source": [
    "nbProduit15Days= df_15jours.groupby('UserID')['ProductID'].count().reset_index()\n",
    "nbProduit15Days.columns=['UserID','No_Of_Products_Viewed_15_Days']\n",
    "updated_values = df_Marketing_Model[['UserID']].merge(nbProduit15Days, on='UserID', how='left')\n",
    "df_Marketing_Model.update(updated_values)\n",
    "\n",
    "print(df_Marketing_Model.head().to_string())"
   ],
   "metadata": {
    "id": "mq5gZ-RBHcX4",
    "ExecuteTime": {
     "end_time": "2025-01-08T21:06:29.863597Z",
     "start_time": "2025-01-08T21:06:29.746281Z"
    }
   },
   "outputs": [
    {
     "name": "stdout",
     "output_type": "stream",
     "text": [
      "    UserID No_of_days_Visited_7_Days No_Of_Products_Viewed_15_Days User_Vintage Most_Viewed_product_15_Days Most_Active_OS Recently_Viewed_Product Pageloads_last_7_days Clicks_last_7_days\n",
      "0  U132443                       NaN                           NaN          NaN                         NaN            NaN                     NaN                   NaN                NaN\n",
      "1  U134616                       NaN                           NaN          NaN                         NaN            NaN                     NaN                   NaN                NaN\n",
      "2  U130784                       NaN                           NaN          NaN                         NaN            NaN                     NaN                   NaN                NaN\n",
      "3  U120983                       1.0                          32.0          NaN                         NaN            NaN                     NaN                   NaN                NaN\n",
      "4  U120287                     143.0                         485.0          NaN                         NaN            NaN                     NaN                   NaN                NaN\n"
     ]
    }
   ],
   "execution_count": 95
  },
  {
   "cell_type": "markdown",
   "source": [
    "# Durée du compte"
   ],
   "metadata": {
    "id": "iIQA2K9iHf3j"
   }
  },
  {
   "cell_type": "code",
   "source": [
    "User_Vintage= df_user[['UserID','Signup Date']]\n",
    "User_Vintage['Signup Date']=pd.Timestamp('2018-05-27', tz='UTC')-pd.to_datetime(User_Vintage['Signup Date'],format='ISO8601')\n",
    "User_Vintage.columns=['UserID','User_Vintage']\n",
    "# print(User_Vintage['Signup Date'].head())\n",
    "updated_values = df_Marketing_Model[['UserID']].merge(User_Vintage, on='UserID', how='left')\n",
    "df_Marketing_Model.update(updated_values)\n",
    "print(df_Marketing_Model.head().to_string())"
   ],
   "metadata": {
    "colab": {
     "base_uri": "https://localhost:8080/"
    },
    "id": "jPQ_bypAHmrU",
    "outputId": "b7be3b19-339b-4ee2-912a-34ec4dfd5abe",
    "ExecuteTime": {
     "end_time": "2025-01-08T21:06:30.021821Z",
     "start_time": "2025-01-08T21:06:29.905153Z"
    }
   },
   "outputs": [
    {
     "name": "stdout",
     "output_type": "stream",
     "text": [
      "    UserID No_of_days_Visited_7_Days No_Of_Products_Viewed_15_Days              User_Vintage Most_Viewed_product_15_Days Most_Active_OS Recently_Viewed_Product Pageloads_last_7_days Clicks_last_7_days\n",
      "0  U132443                       NaN                           NaN  239 days 05:33:17.252592                         NaN            NaN                     NaN                   NaN                NaN\n",
      "1  U134616                       NaN                           NaN  446 days 08:55:01.624228                         NaN            NaN                     NaN                   NaN                NaN\n",
      "2  U130784                       NaN                           NaN  261 days 05:15:35.831008                         NaN            NaN                     NaN                   NaN                NaN\n",
      "3  U120983                       1.0                          32.0   76 days 18:53:27.568512                         NaN            NaN                     NaN                   NaN                NaN\n",
      "4  U120287                     143.0                         485.0   45 days 05:37:40.435553                         NaN            NaN                     NaN                   NaN                NaN\n"
     ]
    },
    {
     "name": "stderr",
     "output_type": "stream",
     "text": [
      "C:\\Users\\thoma\\AppData\\Local\\Temp\\ipykernel_3192\\2476486706.py:2: SettingWithCopyWarning: \n",
      "A value is trying to be set on a copy of a slice from a DataFrame.\n",
      "Try using .loc[row_indexer,col_indexer] = value instead\n",
      "\n",
      "See the caveats in the documentation: https://pandas.pydata.org/pandas-docs/stable/user_guide/indexing.html#returning-a-view-versus-a-copy\n",
      "  User_Vintage['Signup Date']=pd.Timestamp('2018-05-27', tz='UTC')-pd.to_datetime(User_Vintage['Signup Date'],format='ISO8601')\n"
     ]
    }
   ],
   "execution_count": 96
  },
  {
   "cell_type": "markdown",
   "source": [
    "# Produit le plus observé les 15 derniers jours par utilisateur"
   ],
   "metadata": {
    "id": "mXHKcN10HorG"
   }
  },
  {
   "cell_type": "code",
   "source": [
    "produit_counts = df_15jours.groupby(['UserID', 'ProductID']).size().reset_index(name='count')\n",
    "produit_max = produit_counts.loc[produit_counts.groupby('UserID')['count'].idxmax()]\n",
    "produit_max.columns=['UserID','Most_Viewed_product_15_Days','count']\n",
    "updated_values = df_Marketing_Model[['UserID']].merge(produit_max[['UserID', 'Most_Viewed_product_15_Days']], on='UserID', how='left')\n",
    "df_Marketing_Model.update(updated_values)\n",
    "df_Marketing_Model['Most_Viewed_product_15_Days']=df_Marketing_Model['Most_Viewed_product_15_Days'].fillna('Product101')\n",
    "print(df_Marketing_Model.head().to_string())\n",
    "# print(df_Marketing_Model.isnull().sum())"
   ],
   "metadata": {
    "colab": {
     "base_uri": "https://localhost:8080/"
    },
    "id": "JXY_zOEhH3WX",
    "outputId": "dffcf26e-c956-4857-d91a-2f1ed4b62403",
    "ExecuteTime": {
     "end_time": "2025-01-08T21:06:30.283711Z",
     "start_time": "2025-01-08T21:06:30.069322Z"
    }
   },
   "outputs": [
    {
     "name": "stdout",
     "output_type": "stream",
     "text": [
      "    UserID No_of_days_Visited_7_Days No_Of_Products_Viewed_15_Days              User_Vintage Most_Viewed_product_15_Days Most_Active_OS Recently_Viewed_Product Pageloads_last_7_days Clicks_last_7_days\n",
      "0  U132443                       NaN                           NaN  239 days 05:33:17.252592                  Product101            NaN                     NaN                   NaN                NaN\n",
      "1  U134616                       NaN                           NaN  446 days 08:55:01.624228                  Product101            NaN                     NaN                   NaN                NaN\n",
      "2  U130784                       NaN                           NaN  261 days 05:15:35.831008                  Product101            NaN                     NaN                   NaN                NaN\n",
      "3  U120983                       1.0                          32.0   76 days 18:53:27.568512                    pr100340            NaN                     NaN                   NaN                NaN\n",
      "4  U120287                     143.0                         485.0   45 days 05:37:40.435553                    Pr100060            NaN                     NaN                   NaN                NaN\n"
     ]
    }
   ],
   "execution_count": 97
  },
  {
   "cell_type": "markdown",
   "source": [
    "# OS le plus utilisé par utilisateur"
   ],
   "metadata": {
    "id": "GQmGj2B-IOZt"
   }
  },
  {
   "cell_type": "code",
   "source": [
    "OS_counts = df_VisitorLogs.groupby(['UserID', 'OS']).size().reset_index(name='count')\n",
    "OS_max = OS_counts.loc[OS_counts.groupby('UserID')['count'].idxmax()]\n",
    "OS_max.columns=['UserID','Most_Active_OS','count']\n",
    "updated_values = df_Marketing_Model[['UserID']].merge(OS_max[['UserID', 'Most_Active_OS']], on='UserID', how='left')\n",
    "df_Marketing_Model.update(updated_values)\n",
    "print(df_Marketing_Model.head().to_string())"
   ],
   "metadata": {
    "id": "SWpppxRzIRcm",
    "colab": {
     "base_uri": "https://localhost:8080/"
    },
    "outputId": "26e7d27a-42b5-4e62-ab80-4da53570a446",
    "ExecuteTime": {
     "end_time": "2025-01-08T21:06:30.550815Z",
     "start_time": "2025-01-08T21:06:30.367829Z"
    }
   },
   "outputs": [
    {
     "name": "stdout",
     "output_type": "stream",
     "text": [
      "    UserID No_of_days_Visited_7_Days No_Of_Products_Viewed_15_Days              User_Vintage Most_Viewed_product_15_Days Most_Active_OS Recently_Viewed_Product Pageloads_last_7_days Clicks_last_7_days\n",
      "0  U132443                       NaN                           NaN  239 days 05:33:17.252592                  Product101        Windows                     NaN                   NaN                NaN\n",
      "1  U134616                       NaN                           NaN  446 days 08:55:01.624228                  Product101        Windows                     NaN                   NaN                NaN\n",
      "2  U130784                       NaN                           NaN  261 days 05:15:35.831008                  Product101      Chrome OS                     NaN                   NaN                NaN\n",
      "3  U120983                       1.0                          32.0   76 days 18:53:27.568512                    pr100340        Windows                     NaN                   NaN                NaN\n",
      "4  U120287                     143.0                         485.0   45 days 05:37:40.435553                    Pr100060        Windows                     NaN                   NaN                NaN\n"
     ]
    }
   ],
   "execution_count": 98
  },
  {
   "metadata": {},
   "cell_type": "markdown",
   "source": "## Produit vu le plus récemment "
  },
  {
   "metadata": {
    "ExecuteTime": {
     "end_time": "2025-01-08T21:06:31.466978Z",
     "start_time": "2025-01-08T21:06:30.563528Z"
    }
   },
   "cell_type": "code",
   "source": [
    "df_VisitorLogs.sort_values(by=['UserID','VisitDateTime'], ascending=[True,False], inplace=True)\n",
    "last_product=df_VisitorLogs.groupby('UserID').first().reset_index()\n",
    "last_product = last_product.rename(columns={'ProductID': 'Recently_Viewed_Product'})\n",
    "updated_values=df_Marketing_Model[['UserID']].merge(last_product[['UserID','Recently_Viewed_Product']], on='UserID', how='left')\n",
    "df_Marketing_Model.update(updated_values)\n",
    "df_Marketing_Model['Recently_Viewed_Product']=df_Marketing_Model['Recently_Viewed_Product'].fillna('Product101')\n",
    "print(df_Marketing_Model.head().to_string())"
   ],
   "outputs": [
    {
     "name": "stdout",
     "output_type": "stream",
     "text": [
      "    UserID No_of_days_Visited_7_Days No_Of_Products_Viewed_15_Days              User_Vintage Most_Viewed_product_15_Days Most_Active_OS Recently_Viewed_Product Pageloads_last_7_days Clicks_last_7_days\n",
      "0  U132443                       NaN                           NaN  239 days 05:33:17.252592                  Product101        Windows                Pr100070                   NaN                NaN\n",
      "1  U134616                       NaN                           NaN  446 days 08:55:01.624228                  Product101        Windows                Pr100495                   NaN                NaN\n",
      "2  U130784                       NaN                           NaN  261 days 05:15:35.831008                  Product101      Chrome OS                Pr102323                   NaN                NaN\n",
      "3  U120983                       1.0                          32.0   76 days 18:53:27.568512                    pr100340        Windows                pr100340                   NaN                NaN\n",
      "4  U120287                     143.0                         485.0   45 days 05:37:40.435553                    Pr100060        Windows                Pr100152                   NaN                NaN\n"
     ]
    }
   ],
   "execution_count": 99
  },
  {
   "metadata": {},
   "cell_type": "markdown",
   "source": "## Nombre de Page généres les 7 derniers jours"
  },
  {
   "metadata": {
    "ExecuteTime": {
     "end_time": "2025-01-08T21:06:31.595524Z",
     "start_time": "2025-01-08T21:06:31.508670Z"
    }
   },
   "cell_type": "code",
   "source": [
    "page_load_counts=df_7jours.groupby(by='UserID')['Activity'].value_counts().loc[:, 'pageload'].reset_index(name='Pageloads_last_7_days')\n",
    "updated_values = df_Marketing_Model[['UserID']].merge(page_load_counts[['UserID', 'Pageloads_last_7_days']], on='UserID', how='left')\n",
    "df_Marketing_Model.update(updated_values)\n",
    "print(df_Marketing_Model.head().to_string())"
   ],
   "outputs": [
    {
     "name": "stdout",
     "output_type": "stream",
     "text": [
      "    UserID No_of_days_Visited_7_Days No_Of_Products_Viewed_15_Days              User_Vintage Most_Viewed_product_15_Days Most_Active_OS Recently_Viewed_Product Pageloads_last_7_days Clicks_last_7_days\n",
      "0  U132443                       NaN                           NaN  239 days 05:33:17.252592                  Product101        Windows                Pr100070                   NaN                NaN\n",
      "1  U134616                       NaN                           NaN  446 days 08:55:01.624228                  Product101        Windows                Pr100495                   NaN                NaN\n",
      "2  U130784                       NaN                           NaN  261 days 05:15:35.831008                  Product101      Chrome OS                Pr102323                   NaN                NaN\n",
      "3  U120983                       1.0                          32.0   76 days 18:53:27.568512                    pr100340        Windows                pr100340                   NaN                NaN\n",
      "4  U120287                     143.0                         485.0   45 days 05:37:40.435553                    Pr100060        Windows                Pr100152                   4.0                NaN\n"
     ]
    }
   ],
   "execution_count": 100
  },
  {
   "metadata": {},
   "cell_type": "markdown",
   "source": "## Nombre de clics des 7 derniers jours"
  },
  {
   "metadata": {
    "ExecuteTime": {
     "end_time": "2025-01-08T21:06:31.733966Z",
     "start_time": "2025-01-08T21:06:31.629205Z"
    }
   },
   "cell_type": "code",
   "source": [
    "page_load_counts=df_7jours.groupby(by='UserID')['Activity'].value_counts().loc[:, 'click'].reset_index(name='Clicks_last_7_days')\n",
    "updated_values = df_Marketing_Model[['UserID']].merge(page_load_counts[['UserID', 'Clicks_last_7_days']], on='UserID', how='left')\n",
    "df_Marketing_Model.update(updated_values)\n",
    "df_Marketing_Model['Clicks_last_7_days']=df_Marketing_Model['Clicks_last_7_days'].fillna(0)\n",
    "print(df_Marketing_Model.head().to_string())"
   ],
   "outputs": [
    {
     "name": "stdout",
     "output_type": "stream",
     "text": [
      "    UserID No_of_days_Visited_7_Days No_Of_Products_Viewed_15_Days              User_Vintage Most_Viewed_product_15_Days Most_Active_OS Recently_Viewed_Product Pageloads_last_7_days Clicks_last_7_days\n",
      "0  U132443                       NaN                           NaN  239 days 05:33:17.252592                  Product101        Windows                Pr100070                   NaN                  0\n",
      "1  U134616                       NaN                           NaN  446 days 08:55:01.624228                  Product101        Windows                Pr100495                   NaN                  0\n",
      "2  U130784                       NaN                           NaN  261 days 05:15:35.831008                  Product101      Chrome OS                Pr102323                   NaN                  0\n",
      "3  U120983                       1.0                          32.0   76 days 18:53:27.568512                    pr100340        Windows                pr100340                   NaN                  0\n",
      "4  U120287                     143.0                         485.0   45 days 05:37:40.435553                    Pr100060        Windows                Pr100152                   4.0              103.0\n"
     ]
    }
   ],
   "execution_count": 101
  }
 ],
 "metadata": {
  "colab": {
   "provenance": []
  },
  "kernelspec": {
   "display_name": "Python 3 (ipykernel)",
   "name": "python3",
   "language": "python"
  },
  "language_info": {
   "name": "python"
  }
 },
 "nbformat": 4,
 "nbformat_minor": 0
}
